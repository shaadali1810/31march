{
 "cells": [
  {
   "cell_type": "code",
   "execution_count": 2,
   "id": "156ba66d-aa36-4d51-8815-42f43154c21c",
   "metadata": {},
   "outputs": [
    {
     "data": {
      "text/plain": [
       "'Analysis. ...\\nDesign. ...\\nDevelopment. ...\\nTesting & review. ...\\nDeployment. ...\\nMaintenance. ...'"
      ]
     },
     "execution_count": 2,
     "metadata": {},
     "output_type": "execute_result"
    }
   ],
   "source": [
    "#1 \n",
    "'''Analysis. ...\n",
    "Design. ...\n",
    "Development. ...\n",
    "Testing & review. ...\n",
    "Deployment. ...\n",
    "Maintenance. ...'''"
   ]
  },
  {
   "cell_type": "code",
   "execution_count": 3,
   "id": "b685c648-d318-4720-bf1a-3c449b4ab9c7",
   "metadata": {},
   "outputs": [],
   "source": [
    "#2 The main difference is that with traditional hosting, your website is hosted on a single physical server. In contrast, with cloud hosting, your site is stored across multiple virtual servers in different locations. Cloud hosting also provides more scalability and flexibility regarding resources available to your website."
   ]
  },
  {
   "cell_type": "code",
   "execution_count": 4,
   "id": "3febaa9b-89de-4b7d-8dad-cee6bb9afe97",
   "metadata": {},
   "outputs": [
    {
     "data": {
      "text/plain": [
       "'Scalability: ...\\nSecurity: ...\\nReliability: ...\\nCustomer support: ...\\nCost: ...\\nFlexibility'"
      ]
     },
     "execution_count": 4,
     "metadata": {},
     "output_type": "execute_result"
    }
   ],
   "source": [
    "#3 \n",
    "'''Scalability: ...\n",
    "Security: ...\n",
    "Reliability: ...\n",
    "Customer support: ...\n",
    "Cost: ...\n",
    "Flexibility'''"
   ]
  },
  {
   "cell_type": "code",
   "execution_count": 5,
   "id": "0e2f6def-3c74-4f3d-82c9-8281914c4caf",
   "metadata": {},
   "outputs": [
    {
     "data": {
      "text/plain": [
       "'Responsive images\\nBreakpoints\\nChoose the right fonts\\nDefine typography\\nDimension of clickable areas\\nEasy navigation interface\\nTest responsiveness\\nConsider card interfaces\\nDesign for thumbs'"
      ]
     },
     "execution_count": 5,
     "metadata": {},
     "output_type": "execute_result"
    }
   ],
   "source": [
    "#4\n",
    "'''Responsive images\n",
    "Breakpoints\n",
    "Choose the right fonts\n",
    "Define typography\n",
    "Dimension of clickable areas\n",
    "Easy navigation interface\n",
    "Test responsiveness\n",
    "Consider card interfaces\n",
    "Design for thumbs'''"
   ]
  },
  {
   "cell_type": "code",
   "execution_count": null,
   "id": "26792890-0943-4655-aa68-8167101df2d9",
   "metadata": {},
   "outputs": [],
   "source": [
    "#5 first of all we doing eda on data set of forest fire project by the using of different libraries like numpy,pandas,sklearn,matplotlib and the use of amazon web services of api\n"
   ]
  }
 ],
 "metadata": {
  "kernelspec": {
   "display_name": "Python 3 (ipykernel)",
   "language": "python",
   "name": "python3"
  },
  "language_info": {
   "codemirror_mode": {
    "name": "ipython",
    "version": 3
   },
   "file_extension": ".py",
   "mimetype": "text/x-python",
   "name": "python",
   "nbconvert_exporter": "python",
   "pygments_lexer": "ipython3",
   "version": "3.10.8"
  }
 },
 "nbformat": 4,
 "nbformat_minor": 5
}
